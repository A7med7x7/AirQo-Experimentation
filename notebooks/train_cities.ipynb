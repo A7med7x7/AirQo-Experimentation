{
  "cells": [
    {
      "cell_type": "markdown",
      "metadata": {},
      "source": [
        "# Importing Required Libraries"
      ]
    },
    {
      "cell_type": "code",
      "execution_count": 10,
      "metadata": {
        "id": "MPDUtf6bywy9"
      },
      "outputs": [],
      "source": [
        "import pandas as pd\n",
        "import numpy as np\n",
        "from lightgbm import LGBMRegressor\n",
        "from sklearn.metrics import mean_squared_error,mean_absolute_error\n",
        "from sklearn.model_selection import GroupKFold,KFold\n",
        "from sklearn.preprocessing import LabelEncoder\n"
      ]
    },
    {
      "cell_type": "markdown",
      "metadata": {},
      "source": [
        "# Defining Needed Functions"
      ]
    },
    {
      "cell_type": "code",
      "execution_count": 11,
      "metadata": {
        "id": "zinj-rdAywzD"
      },
      "outputs": [],
      "source": [
        "def post_process(test_data,y,feature_to_mean='date_month') -> int:\n",
        "    \"\"\"runs the post processing\n",
        "\n",
        "    Keyword arguments:\n",
        "    test_data -- the testing data\n",
        "    y -- the target\n",
        "    feature_to_mean -- feature to apply the post processing by\n",
        "    Return: predictions after processing\n",
        "    \"\"\"\n",
        "    test_data['target'] = y\n",
        "    test_data['target_month'] = test_data[feature_to_mean].map(test_data[[feature_to_mean,'target']].groupby(feature_to_mean)['target'].mean())\n",
        "    test_data.drop(columns='target',inplace=True)\n",
        "    return test_data['target_month']"
      ]
    },
    {
      "cell_type": "markdown",
      "metadata": {},
      "source": [
        "# Reading Data"
      ]
    },
    {
      "cell_type": "code",
      "execution_count": 12,
      "metadata": {
        "id": "p2-gx18dywzF"
      },
      "outputs": [],
      "source": [
        "train = pd.read_csv(\"/Users/ahmed/Downloads/computerscience/AirQo/PM2.5-Prediction/data/Train.csv\")\n",
        "test = pd.read_csv(\"/Users/ahmed/Downloads/computerscience/AirQo/PM2.5-Prediction/data/Test.csv\")\n",
        "\n",
        "for df in(train,test):\n",
        "    df.index = pd.to_datetime(df['date'])"
      ]
    },
    {
      "cell_type": "code",
      "execution_count": null,
      "metadata": {},
      "outputs": [],
      "source": []
    },
    {
      "cell_type": "code",
      "execution_count": 13,
      "metadata": {},
      "outputs": [
        {
          "data": {
            "text/plain": [
              "array(['Lagos', 'Bujumbura', 'Kampala'], dtype=object)"
            ]
          },
          "execution_count": 13,
          "metadata": {},
          "output_type": "execute_result"
        }
      ],
      "source": [
        "test_cities = ['Kampala', 'Lagos', 'Bujumbura']\n",
        "\n",
        "train = train[train['city'].isin(test_cities)]\n",
        "train.city.unique()"
      ]
    },
    {
      "cell_type": "markdown",
      "metadata": {},
      "source": [
        "# Cleaning data"
      ]
    },
    {
      "cell_type": "code",
      "execution_count": 17,
      "metadata": {
        "id": "bMBunefbywzH"
      },
      "outputs": [],
      "source": [
        "def clean(trainset,testset):\n",
        "    train_feats = trainset.notna().sum()[trainset.notna().sum() > .15*len(trainset)].index\n",
        "    test_feats = testset.notna().sum()[testset.notna().sum() > .15*len(testset)].index\n",
        "    trainset = trainset[train_feats]\n",
        "    testset = testset[train_feats[:-1]]\n",
        "    \n",
        "clean(train,test)"
      ]
    },
    {
      "cell_type": "markdown",
      "metadata": {},
      "source": [
        "# Generating time-related features"
      ]
    },
    {
      "cell_type": "code",
      "execution_count": 18,
      "metadata": {
        "id": "c_c1XpmhywzP"
      },
      "outputs": [],
      "source": [
        "def feature_engineering(train,test):\n",
        "    for df in [train, test]:\n",
        "        df['date'] = pd.to_datetime(df['date'])\n",
        "        df['date_month'] = df['date'].dt.day_of_year\n",
        "        df['DayOfWeek'] = df['date'].dt.dayofweek\n",
        "        df['Day'] = df['date'].dt.day\n",
        "        df['Year'] = df['date'].dt.year\n",
        "        df.drop(columns=['id', 'site_id', 'date'], inplace=True)\n",
        "\n",
        "    # Create lag features for the training data\n",
        "    train['previous_day_pm2_5_value'] = train.groupby('Day')['pm2_5'].shift(1)\n",
        "    train['previous_1_week_pm2_5_value'] = train.groupby('Day')['pm2_5'].shift(7)\n",
        "\n",
        "    # Fill missing lag features with appropriate values (e.g., NaN or other imputation methods)\n",
        "    train.fillna(method='bfill', inplace=True)\n",
        "\n",
        "    combined = pd.concat([train, test], sort=False)\n",
        "\n",
        "    combined['previous_day_pm2_5_value'] = combined.groupby('Day')['pm2_5'].shift(1)\n",
        "    combined['previous_1_week_pm2_5_value'] = combined.groupby('Day')['pm2_5'].shift(7)\n",
        "\n",
        "    train = combined[combined.index.isin(train.index)]\n",
        "    test = combined[combined.index.isin(test.index)]\n",
        "\n",
        "    test.fillna(method='bfill', inplace=True)\n",
        "\n",
        "    train.drop(columns=['pm2_5'], inplace=True)\n",
        "    test.drop(columns=['pm2_5'], inplace=True)\n"
      ]
    },
    {
      "cell_type": "markdown",
      "metadata": {},
      "source": [
        "# Label Encodig the features"
      ]
    },
    {
      "cell_type": "code",
      "execution_count": 24,
      "metadata": {
        "id": "iSc5juWmywzR"
      },
      "outputs": [],
      "source": [
        "le = LabelEncoder()\n",
        "for column in ['city','country']:\n",
        "    letrans = le.fit_transform(pd.concat([train,test])[column])\n",
        "    train[column] = letrans[:len(train)]\n",
        "    test[column] = letrans[len(train):]"
      ]
    },
    {
      "cell_type": "code",
      "execution_count": null,
      "metadata": {},
      "outputs": [],
      "source": [
        "le = LabelEncoder()\n",
        "for column in ['city','country']:\n",
        "    letrans = le.fit_transform(pd.concat([train,test])[column])\n",
        "    train[column] = letrans[:len(train)]\n",
        "    test[column] = letrans[len(train):]"
      ]
    },
    {
      "cell_type": "code",
      "execution_count": 26,
      "metadata": {},
      "outputs": [
        {
          "data": {
            "text/html": [
              "<div>\n",
              "<style scoped>\n",
              "    .dataframe tbody tr th:only-of-type {\n",
              "        vertical-align: middle;\n",
              "    }\n",
              "\n",
              "    .dataframe tbody tr th {\n",
              "        vertical-align: top;\n",
              "    }\n",
              "\n",
              "    .dataframe thead th {\n",
              "        text-align: right;\n",
              "    }\n",
              "</style>\n",
              "<table border=\"1\" class=\"dataframe\">\n",
              "  <thead>\n",
              "    <tr style=\"text-align: right;\">\n",
              "      <th></th>\n",
              "      <th>id</th>\n",
              "      <th>site_id</th>\n",
              "      <th>site_latitude</th>\n",
              "      <th>site_longitude</th>\n",
              "      <th>city</th>\n",
              "      <th>country</th>\n",
              "      <th>date</th>\n",
              "      <th>hour</th>\n",
              "      <th>sulphurdioxide_so2_column_number_density</th>\n",
              "      <th>sulphurdioxide_so2_column_number_density_amf</th>\n",
              "      <th>...</th>\n",
              "      <th>cloud_cloud_top_height</th>\n",
              "      <th>cloud_cloud_base_pressure</th>\n",
              "      <th>cloud_cloud_base_height</th>\n",
              "      <th>cloud_cloud_optical_depth</th>\n",
              "      <th>cloud_surface_albedo</th>\n",
              "      <th>cloud_sensor_azimuth_angle</th>\n",
              "      <th>cloud_sensor_zenith_angle</th>\n",
              "      <th>cloud_solar_azimuth_angle</th>\n",
              "      <th>cloud_solar_zenith_angle</th>\n",
              "      <th>pm2_5</th>\n",
              "    </tr>\n",
              "    <tr>\n",
              "      <th>date</th>\n",
              "      <th></th>\n",
              "      <th></th>\n",
              "      <th></th>\n",
              "      <th></th>\n",
              "      <th></th>\n",
              "      <th></th>\n",
              "      <th></th>\n",
              "      <th></th>\n",
              "      <th></th>\n",
              "      <th></th>\n",
              "      <th></th>\n",
              "      <th></th>\n",
              "      <th></th>\n",
              "      <th></th>\n",
              "      <th></th>\n",
              "      <th></th>\n",
              "      <th></th>\n",
              "      <th></th>\n",
              "      <th></th>\n",
              "      <th></th>\n",
              "      <th></th>\n",
              "    </tr>\n",
              "  </thead>\n",
              "  <tbody>\n",
              "    <tr>\n",
              "      <th>2023-10-25</th>\n",
              "      <td>id_vjcx08sz91</td>\n",
              "      <td>6531a46a89b3300013914a36</td>\n",
              "      <td>6.53257</td>\n",
              "      <td>3.39936</td>\n",
              "      <td>5</td>\n",
              "      <td>4</td>\n",
              "      <td>2023-10-25</td>\n",
              "      <td>13</td>\n",
              "      <td>NaN</td>\n",
              "      <td>NaN</td>\n",
              "      <td>...</td>\n",
              "      <td>NaN</td>\n",
              "      <td>NaN</td>\n",
              "      <td>NaN</td>\n",
              "      <td>NaN</td>\n",
              "      <td>NaN</td>\n",
              "      <td>NaN</td>\n",
              "      <td>NaN</td>\n",
              "      <td>NaN</td>\n",
              "      <td>NaN</td>\n",
              "      <td>12.015000</td>\n",
              "    </tr>\n",
              "    <tr>\n",
              "      <th>2023-11-02</th>\n",
              "      <td>id_bkg215syli</td>\n",
              "      <td>6531a46a89b3300013914a36</td>\n",
              "      <td>6.53257</td>\n",
              "      <td>3.39936</td>\n",
              "      <td>5</td>\n",
              "      <td>4</td>\n",
              "      <td>2023-11-02</td>\n",
              "      <td>12</td>\n",
              "      <td>NaN</td>\n",
              "      <td>NaN</td>\n",
              "      <td>...</td>\n",
              "      <td>NaN</td>\n",
              "      <td>NaN</td>\n",
              "      <td>NaN</td>\n",
              "      <td>NaN</td>\n",
              "      <td>NaN</td>\n",
              "      <td>NaN</td>\n",
              "      <td>NaN</td>\n",
              "      <td>NaN</td>\n",
              "      <td>NaN</td>\n",
              "      <td>42.267200</td>\n",
              "    </tr>\n",
              "    <tr>\n",
              "      <th>2023-11-03</th>\n",
              "      <td>id_oui2pot3qd</td>\n",
              "      <td>6531a46a89b3300013914a36</td>\n",
              "      <td>6.53257</td>\n",
              "      <td>3.39936</td>\n",
              "      <td>5</td>\n",
              "      <td>4</td>\n",
              "      <td>2023-11-03</td>\n",
              "      <td>13</td>\n",
              "      <td>NaN</td>\n",
              "      <td>NaN</td>\n",
              "      <td>...</td>\n",
              "      <td>6791.682888</td>\n",
              "      <td>51171.802486</td>\n",
              "      <td>5791.682829</td>\n",
              "      <td>11.816715</td>\n",
              "      <td>0.192757</td>\n",
              "      <td>-96.411890</td>\n",
              "      <td>61.045123</td>\n",
              "      <td>-121.307414</td>\n",
              "      <td>41.898269</td>\n",
              "      <td>39.450741</td>\n",
              "    </tr>\n",
              "    <tr>\n",
              "      <th>2023-11-08</th>\n",
              "      <td>id_9aandqzy4n</td>\n",
              "      <td>6531a46a89b3300013914a36</td>\n",
              "      <td>6.53257</td>\n",
              "      <td>3.39936</td>\n",
              "      <td>5</td>\n",
              "      <td>4</td>\n",
              "      <td>2023-11-08</td>\n",
              "      <td>14</td>\n",
              "      <td>NaN</td>\n",
              "      <td>NaN</td>\n",
              "      <td>...</td>\n",
              "      <td>NaN</td>\n",
              "      <td>NaN</td>\n",
              "      <td>NaN</td>\n",
              "      <td>NaN</td>\n",
              "      <td>NaN</td>\n",
              "      <td>NaN</td>\n",
              "      <td>NaN</td>\n",
              "      <td>NaN</td>\n",
              "      <td>NaN</td>\n",
              "      <td>10.537600</td>\n",
              "    </tr>\n",
              "    <tr>\n",
              "      <th>2023-11-09</th>\n",
              "      <td>id_ali5x2m4iw</td>\n",
              "      <td>6531a46a89b3300013914a36</td>\n",
              "      <td>6.53257</td>\n",
              "      <td>3.39936</td>\n",
              "      <td>5</td>\n",
              "      <td>4</td>\n",
              "      <td>2023-11-09</td>\n",
              "      <td>13</td>\n",
              "      <td>0.000267</td>\n",
              "      <td>0.774656</td>\n",
              "      <td>...</td>\n",
              "      <td>1451.050659</td>\n",
              "      <td>96215.906250</td>\n",
              "      <td>451.050598</td>\n",
              "      <td>10.521009</td>\n",
              "      <td>0.153114</td>\n",
              "      <td>-97.811241</td>\n",
              "      <td>49.513439</td>\n",
              "      <td>-126.064453</td>\n",
              "      <td>40.167355</td>\n",
              "      <td>19.431731</td>\n",
              "    </tr>\n",
              "    <tr>\n",
              "      <th>...</th>\n",
              "      <td>...</td>\n",
              "      <td>...</td>\n",
              "      <td>...</td>\n",
              "      <td>...</td>\n",
              "      <td>...</td>\n",
              "      <td>...</td>\n",
              "      <td>...</td>\n",
              "      <td>...</td>\n",
              "      <td>...</td>\n",
              "      <td>...</td>\n",
              "      <td>...</td>\n",
              "      <td>...</td>\n",
              "      <td>...</td>\n",
              "      <td>...</td>\n",
              "      <td>...</td>\n",
              "      <td>...</td>\n",
              "      <td>...</td>\n",
              "      <td>...</td>\n",
              "      <td>...</td>\n",
              "      <td>...</td>\n",
              "      <td>...</td>\n",
              "    </tr>\n",
              "    <tr>\n",
              "      <th>2024-01-16</th>\n",
              "      <td>id_utshimidk4</td>\n",
              "      <td>64ef31227771f10013f8b066</td>\n",
              "      <td>-3.38065</td>\n",
              "      <td>29.38383</td>\n",
              "      <td>1</td>\n",
              "      <td>0</td>\n",
              "      <td>2024-01-16</td>\n",
              "      <td>12</td>\n",
              "      <td>NaN</td>\n",
              "      <td>NaN</td>\n",
              "      <td>...</td>\n",
              "      <td>NaN</td>\n",
              "      <td>NaN</td>\n",
              "      <td>NaN</td>\n",
              "      <td>NaN</td>\n",
              "      <td>NaN</td>\n",
              "      <td>NaN</td>\n",
              "      <td>NaN</td>\n",
              "      <td>NaN</td>\n",
              "      <td>NaN</td>\n",
              "      <td>26.997632</td>\n",
              "    </tr>\n",
              "    <tr>\n",
              "      <th>2024-01-24</th>\n",
              "      <td>id_i3tbxmvr5w</td>\n",
              "      <td>64ef31227771f10013f8b066</td>\n",
              "      <td>-3.38065</td>\n",
              "      <td>29.38383</td>\n",
              "      <td>1</td>\n",
              "      <td>0</td>\n",
              "      <td>2024-01-24</td>\n",
              "      <td>11</td>\n",
              "      <td>NaN</td>\n",
              "      <td>NaN</td>\n",
              "      <td>...</td>\n",
              "      <td>NaN</td>\n",
              "      <td>NaN</td>\n",
              "      <td>NaN</td>\n",
              "      <td>NaN</td>\n",
              "      <td>NaN</td>\n",
              "      <td>NaN</td>\n",
              "      <td>NaN</td>\n",
              "      <td>NaN</td>\n",
              "      <td>NaN</td>\n",
              "      <td>110.813000</td>\n",
              "    </tr>\n",
              "    <tr>\n",
              "      <th>2024-01-25</th>\n",
              "      <td>id_tqirgbtzoc</td>\n",
              "      <td>64ef31227771f10013f8b066</td>\n",
              "      <td>-3.38065</td>\n",
              "      <td>29.38383</td>\n",
              "      <td>1</td>\n",
              "      <td>0</td>\n",
              "      <td>2024-01-25</td>\n",
              "      <td>11</td>\n",
              "      <td>0.000229</td>\n",
              "      <td>0.638001</td>\n",
              "      <td>...</td>\n",
              "      <td>NaN</td>\n",
              "      <td>NaN</td>\n",
              "      <td>NaN</td>\n",
              "      <td>NaN</td>\n",
              "      <td>NaN</td>\n",
              "      <td>NaN</td>\n",
              "      <td>NaN</td>\n",
              "      <td>NaN</td>\n",
              "      <td>NaN</td>\n",
              "      <td>50.078421</td>\n",
              "    </tr>\n",
              "    <tr>\n",
              "      <th>2024-01-26</th>\n",
              "      <td>id_rs2x3p7cgc</td>\n",
              "      <td>64ef31227771f10013f8b066</td>\n",
              "      <td>-3.38065</td>\n",
              "      <td>29.38383</td>\n",
              "      <td>1</td>\n",
              "      <td>0</td>\n",
              "      <td>2024-01-26</td>\n",
              "      <td>10</td>\n",
              "      <td>-0.000305</td>\n",
              "      <td>0.727786</td>\n",
              "      <td>...</td>\n",
              "      <td>7570.113770</td>\n",
              "      <td>46691.367187</td>\n",
              "      <td>6570.113770</td>\n",
              "      <td>9.200150</td>\n",
              "      <td>0.249005</td>\n",
              "      <td>72.482094</td>\n",
              "      <td>59.980885</td>\n",
              "      <td>-148.271301</td>\n",
              "      <td>18.270901</td>\n",
              "      <td>32.742105</td>\n",
              "    </tr>\n",
              "    <tr>\n",
              "      <th>2024-01-27</th>\n",
              "      <td>id_s1bmwov0fv</td>\n",
              "      <td>64ef31227771f10013f8b066</td>\n",
              "      <td>-3.38065</td>\n",
              "      <td>29.38383</td>\n",
              "      <td>1</td>\n",
              "      <td>0</td>\n",
              "      <td>2024-01-27</td>\n",
              "      <td>12</td>\n",
              "      <td>0.000323</td>\n",
              "      <td>0.517016</td>\n",
              "      <td>...</td>\n",
              "      <td>NaN</td>\n",
              "      <td>NaN</td>\n",
              "      <td>NaN</td>\n",
              "      <td>NaN</td>\n",
              "      <td>NaN</td>\n",
              "      <td>NaN</td>\n",
              "      <td>NaN</td>\n",
              "      <td>NaN</td>\n",
              "      <td>NaN</td>\n",
              "      <td>33.646250</td>\n",
              "    </tr>\n",
              "  </tbody>\n",
              "</table>\n",
              "<p>6571 rows × 80 columns</p>\n",
              "</div>"
            ],
            "text/plain": [
              "                       id                   site_id  site_latitude  \\\n",
              "date                                                                 \n",
              "2023-10-25  id_vjcx08sz91  6531a46a89b3300013914a36        6.53257   \n",
              "2023-11-02  id_bkg215syli  6531a46a89b3300013914a36        6.53257   \n",
              "2023-11-03  id_oui2pot3qd  6531a46a89b3300013914a36        6.53257   \n",
              "2023-11-08  id_9aandqzy4n  6531a46a89b3300013914a36        6.53257   \n",
              "2023-11-09  id_ali5x2m4iw  6531a46a89b3300013914a36        6.53257   \n",
              "...                   ...                       ...            ...   \n",
              "2024-01-16  id_utshimidk4  64ef31227771f10013f8b066       -3.38065   \n",
              "2024-01-24  id_i3tbxmvr5w  64ef31227771f10013f8b066       -3.38065   \n",
              "2024-01-25  id_tqirgbtzoc  64ef31227771f10013f8b066       -3.38065   \n",
              "2024-01-26  id_rs2x3p7cgc  64ef31227771f10013f8b066       -3.38065   \n",
              "2024-01-27  id_s1bmwov0fv  64ef31227771f10013f8b066       -3.38065   \n",
              "\n",
              "            site_longitude  city  country        date  hour  \\\n",
              "date                                                          \n",
              "2023-10-25         3.39936     5        4  2023-10-25    13   \n",
              "2023-11-02         3.39936     5        4  2023-11-02    12   \n",
              "2023-11-03         3.39936     5        4  2023-11-03    13   \n",
              "2023-11-08         3.39936     5        4  2023-11-08    14   \n",
              "2023-11-09         3.39936     5        4  2023-11-09    13   \n",
              "...                    ...   ...      ...         ...   ...   \n",
              "2024-01-16        29.38383     1        0  2024-01-16    12   \n",
              "2024-01-24        29.38383     1        0  2024-01-24    11   \n",
              "2024-01-25        29.38383     1        0  2024-01-25    11   \n",
              "2024-01-26        29.38383     1        0  2024-01-26    10   \n",
              "2024-01-27        29.38383     1        0  2024-01-27    12   \n",
              "\n",
              "            sulphurdioxide_so2_column_number_density  \\\n",
              "date                                                   \n",
              "2023-10-25                                       NaN   \n",
              "2023-11-02                                       NaN   \n",
              "2023-11-03                                       NaN   \n",
              "2023-11-08                                       NaN   \n",
              "2023-11-09                                  0.000267   \n",
              "...                                              ...   \n",
              "2024-01-16                                       NaN   \n",
              "2024-01-24                                       NaN   \n",
              "2024-01-25                                  0.000229   \n",
              "2024-01-26                                 -0.000305   \n",
              "2024-01-27                                  0.000323   \n",
              "\n",
              "            sulphurdioxide_so2_column_number_density_amf  ...  \\\n",
              "date                                                      ...   \n",
              "2023-10-25                                           NaN  ...   \n",
              "2023-11-02                                           NaN  ...   \n",
              "2023-11-03                                           NaN  ...   \n",
              "2023-11-08                                           NaN  ...   \n",
              "2023-11-09                                      0.774656  ...   \n",
              "...                                                  ...  ...   \n",
              "2024-01-16                                           NaN  ...   \n",
              "2024-01-24                                           NaN  ...   \n",
              "2024-01-25                                      0.638001  ...   \n",
              "2024-01-26                                      0.727786  ...   \n",
              "2024-01-27                                      0.517016  ...   \n",
              "\n",
              "            cloud_cloud_top_height  cloud_cloud_base_pressure  \\\n",
              "date                                                            \n",
              "2023-10-25                     NaN                        NaN   \n",
              "2023-11-02                     NaN                        NaN   \n",
              "2023-11-03             6791.682888               51171.802486   \n",
              "2023-11-08                     NaN                        NaN   \n",
              "2023-11-09             1451.050659               96215.906250   \n",
              "...                            ...                        ...   \n",
              "2024-01-16                     NaN                        NaN   \n",
              "2024-01-24                     NaN                        NaN   \n",
              "2024-01-25                     NaN                        NaN   \n",
              "2024-01-26             7570.113770               46691.367187   \n",
              "2024-01-27                     NaN                        NaN   \n",
              "\n",
              "            cloud_cloud_base_height  cloud_cloud_optical_depth  \\\n",
              "date                                                             \n",
              "2023-10-25                      NaN                        NaN   \n",
              "2023-11-02                      NaN                        NaN   \n",
              "2023-11-03              5791.682829                  11.816715   \n",
              "2023-11-08                      NaN                        NaN   \n",
              "2023-11-09               451.050598                  10.521009   \n",
              "...                             ...                        ...   \n",
              "2024-01-16                      NaN                        NaN   \n",
              "2024-01-24                      NaN                        NaN   \n",
              "2024-01-25                      NaN                        NaN   \n",
              "2024-01-26              6570.113770                   9.200150   \n",
              "2024-01-27                      NaN                        NaN   \n",
              "\n",
              "            cloud_surface_albedo  cloud_sensor_azimuth_angle  \\\n",
              "date                                                           \n",
              "2023-10-25                   NaN                         NaN   \n",
              "2023-11-02                   NaN                         NaN   \n",
              "2023-11-03              0.192757                  -96.411890   \n",
              "2023-11-08                   NaN                         NaN   \n",
              "2023-11-09              0.153114                  -97.811241   \n",
              "...                          ...                         ...   \n",
              "2024-01-16                   NaN                         NaN   \n",
              "2024-01-24                   NaN                         NaN   \n",
              "2024-01-25                   NaN                         NaN   \n",
              "2024-01-26              0.249005                   72.482094   \n",
              "2024-01-27                   NaN                         NaN   \n",
              "\n",
              "            cloud_sensor_zenith_angle  cloud_solar_azimuth_angle  \\\n",
              "date                                                               \n",
              "2023-10-25                        NaN                        NaN   \n",
              "2023-11-02                        NaN                        NaN   \n",
              "2023-11-03                  61.045123                -121.307414   \n",
              "2023-11-08                        NaN                        NaN   \n",
              "2023-11-09                  49.513439                -126.064453   \n",
              "...                               ...                        ...   \n",
              "2024-01-16                        NaN                        NaN   \n",
              "2024-01-24                        NaN                        NaN   \n",
              "2024-01-25                        NaN                        NaN   \n",
              "2024-01-26                  59.980885                -148.271301   \n",
              "2024-01-27                        NaN                        NaN   \n",
              "\n",
              "            cloud_solar_zenith_angle       pm2_5  \n",
              "date                                              \n",
              "2023-10-25                       NaN   12.015000  \n",
              "2023-11-02                       NaN   42.267200  \n",
              "2023-11-03                 41.898269   39.450741  \n",
              "2023-11-08                       NaN   10.537600  \n",
              "2023-11-09                 40.167355   19.431731  \n",
              "...                              ...         ...  \n",
              "2024-01-16                       NaN   26.997632  \n",
              "2024-01-24                       NaN  110.813000  \n",
              "2024-01-25                       NaN   50.078421  \n",
              "2024-01-26                 18.270901   32.742105  \n",
              "2024-01-27                       NaN   33.646250  \n",
              "\n",
              "[6571 rows x 80 columns]"
            ]
          },
          "execution_count": 26,
          "metadata": {},
          "output_type": "execute_result"
        }
      ],
      "source": [
        "train"
      ]
    },
    {
      "cell_type": "markdown",
      "metadata": {},
      "source": [
        "# Modeling and Validation"
      ]
    },
    {
      "cell_type": "code",
      "execution_count": 22,
      "metadata": {
        "id": "EXdxjHU7ywzS"
      },
      "outputs": [],
      "source": [
        "groups = train['city'] # the groups used in grouped kfold\n",
        "model =  LGBMRegressor(random_state=42,n_estimators=200,max_depth=10,objective='mse')\n",
        "n_splits = 3\n",
        "cv = GroupKFold(n_splits=n_splits)"
      ]
    },
    {
      "cell_type": "code",
      "execution_count": 25,
      "metadata": {
        "colab": {
          "base_uri": "https://localhost:8080/"
        },
        "id": "4sTNLcFtywzS",
        "outputId": "308eed93-26a9-4aa6-e0a3-b12f27bf9308"
      },
      "outputs": [
        {
          "ename": "ValueError",
          "evalue": "pandas dtypes must be int, float or bool.\nFields with bad pandas dtypes: id: object, site_id: object, date: object",
          "output_type": "error",
          "traceback": [
            "\u001b[0;31m---------------------------------------------------------------------------\u001b[0m",
            "\u001b[0;31mValueError\u001b[0m                                Traceback (most recent call last)",
            "Cell \u001b[0;32mIn[25], line 24\u001b[0m\n\u001b[1;32m     22\u001b[0m train_v, test_v\u001b[38;5;241m=\u001b[39m train\u001b[38;5;241m.\u001b[39miloc[v_train],train\u001b[38;5;241m.\u001b[39miloc[v_test]\n\u001b[1;32m     23\u001b[0m origin \u001b[38;5;241m=\u001b[39m train_set\u001b[38;5;241m.\u001b[39miloc[v_test]\n\u001b[0;32m---> 24\u001b[0m rmse\u001b[38;5;241m.\u001b[39mappend(\u001b[43mvalidate\u001b[49m\u001b[43m(\u001b[49m\u001b[43mtrain_v\u001b[49m\u001b[43m,\u001b[49m\u001b[43mtest_v\u001b[49m\u001b[43m,\u001b[49m\u001b[38;5;124;43m'\u001b[39;49m\u001b[38;5;124;43mpm2_5\u001b[39;49m\u001b[38;5;124;43m'\u001b[39;49m\u001b[43m,\u001b[49m\u001b[43morigin\u001b[49m\u001b[43m)\u001b[49m)\n",
            "Cell \u001b[0;32mIn[25], line 4\u001b[0m, in \u001b[0;36mvalidate\u001b[0;34m(trainset, testset, t, origin)\u001b[0m\n\u001b[1;32m      3\u001b[0m \u001b[38;5;28;01mdef\u001b[39;00m \u001b[38;5;21mvalidate\u001b[39m(trainset,testset,t,origin):\n\u001b[0;32m----> 4\u001b[0m     \u001b[43mmodel\u001b[49m\u001b[38;5;241;43m.\u001b[39;49m\u001b[43mfit\u001b[49m\u001b[43m(\u001b[49m\u001b[43mtrainset\u001b[49m\u001b[38;5;241;43m.\u001b[39;49m\u001b[43mdrop\u001b[49m\u001b[43m(\u001b[49m\u001b[43mcolumns\u001b[49m\u001b[38;5;241;43m=\u001b[39;49m\u001b[43mt\u001b[49m\u001b[43m)\u001b[49m\u001b[43m,\u001b[49m\u001b[43mtrainset\u001b[49m\u001b[43m[\u001b[49m\u001b[43mt\u001b[49m\u001b[43m]\u001b[49m\u001b[43m)\u001b[49m\n\u001b[1;32m      5\u001b[0m     pred \u001b[38;5;241m=\u001b[39m model\u001b[38;5;241m.\u001b[39mpredict(np\u001b[38;5;241m.\u001b[39marray(testset\u001b[38;5;241m.\u001b[39mdrop(columns\u001b[38;5;241m=\u001b[39mt)))\n\u001b[1;32m      6\u001b[0m     \u001b[38;5;28mprint\u001b[39m(\u001b[38;5;124m'\u001b[39m\u001b[38;5;124mstd: \u001b[39m\u001b[38;5;124m'\u001b[39m, testset[t]\u001b[38;5;241m.\u001b[39mstd())\n",
            "File \u001b[0;32m~/Downloads/computerscience/Kaggle/geoai-ground-level-no2-estimation/geoai-ground/venv-geoai-ground-level-no2-estimation/lib/python3.12/site-packages/lightgbm/sklearn.py:1173\u001b[0m, in \u001b[0;36mLGBMRegressor.fit\u001b[0;34m(self, X, y, sample_weight, init_score, eval_set, eval_names, eval_sample_weight, eval_init_score, eval_metric, feature_name, categorical_feature, callbacks, init_model)\u001b[0m\n\u001b[1;32m   1156\u001b[0m \u001b[38;5;28;01mdef\u001b[39;00m \u001b[38;5;21mfit\u001b[39m(  \u001b[38;5;66;03m# type: ignore[override]\u001b[39;00m\n\u001b[1;32m   1157\u001b[0m     \u001b[38;5;28mself\u001b[39m,\n\u001b[1;32m   1158\u001b[0m     X: _LGBM_ScikitMatrixLike,\n\u001b[0;32m   (...)\u001b[0m\n\u001b[1;32m   1170\u001b[0m     init_model: Optional[Union[\u001b[38;5;28mstr\u001b[39m, Path, Booster, LGBMModel]] \u001b[38;5;241m=\u001b[39m \u001b[38;5;28;01mNone\u001b[39;00m,\n\u001b[1;32m   1171\u001b[0m ) \u001b[38;5;241m-\u001b[39m\u001b[38;5;241m>\u001b[39m \u001b[38;5;124m\"\u001b[39m\u001b[38;5;124mLGBMRegressor\u001b[39m\u001b[38;5;124m\"\u001b[39m:\n\u001b[1;32m   1172\u001b[0m \u001b[38;5;250m    \u001b[39m\u001b[38;5;124;03m\"\"\"Docstring is inherited from the LGBMModel.\"\"\"\u001b[39;00m\n\u001b[0;32m-> 1173\u001b[0m     \u001b[38;5;28;43msuper\u001b[39;49m\u001b[43m(\u001b[49m\u001b[43m)\u001b[49m\u001b[38;5;241;43m.\u001b[39;49m\u001b[43mfit\u001b[49m\u001b[43m(\u001b[49m\n\u001b[1;32m   1174\u001b[0m \u001b[43m        \u001b[49m\u001b[43mX\u001b[49m\u001b[43m,\u001b[49m\n\u001b[1;32m   1175\u001b[0m \u001b[43m        \u001b[49m\u001b[43my\u001b[49m\u001b[43m,\u001b[49m\n\u001b[1;32m   1176\u001b[0m \u001b[43m        \u001b[49m\u001b[43msample_weight\u001b[49m\u001b[38;5;241;43m=\u001b[39;49m\u001b[43msample_weight\u001b[49m\u001b[43m,\u001b[49m\n\u001b[1;32m   1177\u001b[0m \u001b[43m        \u001b[49m\u001b[43minit_score\u001b[49m\u001b[38;5;241;43m=\u001b[39;49m\u001b[43minit_score\u001b[49m\u001b[43m,\u001b[49m\n\u001b[1;32m   1178\u001b[0m \u001b[43m        \u001b[49m\u001b[43meval_set\u001b[49m\u001b[38;5;241;43m=\u001b[39;49m\u001b[43meval_set\u001b[49m\u001b[43m,\u001b[49m\n\u001b[1;32m   1179\u001b[0m \u001b[43m        \u001b[49m\u001b[43meval_names\u001b[49m\u001b[38;5;241;43m=\u001b[39;49m\u001b[43meval_names\u001b[49m\u001b[43m,\u001b[49m\n\u001b[1;32m   1180\u001b[0m \u001b[43m        \u001b[49m\u001b[43meval_sample_weight\u001b[49m\u001b[38;5;241;43m=\u001b[39;49m\u001b[43meval_sample_weight\u001b[49m\u001b[43m,\u001b[49m\n\u001b[1;32m   1181\u001b[0m \u001b[43m        \u001b[49m\u001b[43meval_init_score\u001b[49m\u001b[38;5;241;43m=\u001b[39;49m\u001b[43meval_init_score\u001b[49m\u001b[43m,\u001b[49m\n\u001b[1;32m   1182\u001b[0m \u001b[43m        \u001b[49m\u001b[43meval_metric\u001b[49m\u001b[38;5;241;43m=\u001b[39;49m\u001b[43meval_metric\u001b[49m\u001b[43m,\u001b[49m\n\u001b[1;32m   1183\u001b[0m \u001b[43m        \u001b[49m\u001b[43mfeature_name\u001b[49m\u001b[38;5;241;43m=\u001b[39;49m\u001b[43mfeature_name\u001b[49m\u001b[43m,\u001b[49m\n\u001b[1;32m   1184\u001b[0m \u001b[43m        \u001b[49m\u001b[43mcategorical_feature\u001b[49m\u001b[38;5;241;43m=\u001b[39;49m\u001b[43mcategorical_feature\u001b[49m\u001b[43m,\u001b[49m\n\u001b[1;32m   1185\u001b[0m \u001b[43m        \u001b[49m\u001b[43mcallbacks\u001b[49m\u001b[38;5;241;43m=\u001b[39;49m\u001b[43mcallbacks\u001b[49m\u001b[43m,\u001b[49m\n\u001b[1;32m   1186\u001b[0m \u001b[43m        \u001b[49m\u001b[43minit_model\u001b[49m\u001b[38;5;241;43m=\u001b[39;49m\u001b[43minit_model\u001b[49m\u001b[43m,\u001b[49m\n\u001b[1;32m   1187\u001b[0m \u001b[43m    \u001b[49m\u001b[43m)\u001b[49m\n\u001b[1;32m   1188\u001b[0m     \u001b[38;5;28;01mreturn\u001b[39;00m \u001b[38;5;28mself\u001b[39m\n",
            "File \u001b[0;32m~/Downloads/computerscience/Kaggle/geoai-ground-level-no2-estimation/geoai-ground/venv-geoai-ground-level-no2-estimation/lib/python3.12/site-packages/lightgbm/sklearn.py:954\u001b[0m, in \u001b[0;36mLGBMModel.fit\u001b[0;34m(self, X, y, sample_weight, init_score, group, eval_set, eval_names, eval_sample_weight, eval_class_weight, eval_init_score, eval_group, eval_metric, feature_name, categorical_feature, callbacks, init_model)\u001b[0m\n\u001b[1;32m    951\u001b[0m evals_result: _EvalResultDict \u001b[38;5;241m=\u001b[39m {}\n\u001b[1;32m    952\u001b[0m callbacks\u001b[38;5;241m.\u001b[39mappend(record_evaluation(evals_result))\n\u001b[0;32m--> 954\u001b[0m \u001b[38;5;28mself\u001b[39m\u001b[38;5;241m.\u001b[39m_Booster \u001b[38;5;241m=\u001b[39m \u001b[43mtrain\u001b[49m\u001b[43m(\u001b[49m\n\u001b[1;32m    955\u001b[0m \u001b[43m    \u001b[49m\u001b[43mparams\u001b[49m\u001b[38;5;241;43m=\u001b[39;49m\u001b[43mparams\u001b[49m\u001b[43m,\u001b[49m\n\u001b[1;32m    956\u001b[0m \u001b[43m    \u001b[49m\u001b[43mtrain_set\u001b[49m\u001b[38;5;241;43m=\u001b[39;49m\u001b[43mtrain_set\u001b[49m\u001b[43m,\u001b[49m\n\u001b[1;32m    957\u001b[0m \u001b[43m    \u001b[49m\u001b[43mnum_boost_round\u001b[49m\u001b[38;5;241;43m=\u001b[39;49m\u001b[38;5;28;43mself\u001b[39;49m\u001b[38;5;241;43m.\u001b[39;49m\u001b[43mn_estimators\u001b[49m\u001b[43m,\u001b[49m\n\u001b[1;32m    958\u001b[0m \u001b[43m    \u001b[49m\u001b[43mvalid_sets\u001b[49m\u001b[38;5;241;43m=\u001b[39;49m\u001b[43mvalid_sets\u001b[49m\u001b[43m,\u001b[49m\n\u001b[1;32m    959\u001b[0m \u001b[43m    \u001b[49m\u001b[43mvalid_names\u001b[49m\u001b[38;5;241;43m=\u001b[39;49m\u001b[43meval_names\u001b[49m\u001b[43m,\u001b[49m\n\u001b[1;32m    960\u001b[0m \u001b[43m    \u001b[49m\u001b[43mfeval\u001b[49m\u001b[38;5;241;43m=\u001b[39;49m\u001b[43meval_metrics_callable\u001b[49m\u001b[43m,\u001b[49m\u001b[43m  \u001b[49m\u001b[38;5;66;43;03m# type: ignore[arg-type]\u001b[39;49;00m\n\u001b[1;32m    961\u001b[0m \u001b[43m    \u001b[49m\u001b[43minit_model\u001b[49m\u001b[38;5;241;43m=\u001b[39;49m\u001b[43minit_model\u001b[49m\u001b[43m,\u001b[49m\n\u001b[1;32m    962\u001b[0m \u001b[43m    \u001b[49m\u001b[43mcallbacks\u001b[49m\u001b[38;5;241;43m=\u001b[39;49m\u001b[43mcallbacks\u001b[49m\u001b[43m,\u001b[49m\n\u001b[1;32m    963\u001b[0m \u001b[43m\u001b[49m\u001b[43m)\u001b[49m\n\u001b[1;32m    965\u001b[0m \u001b[38;5;28mself\u001b[39m\u001b[38;5;241m.\u001b[39m_evals_result \u001b[38;5;241m=\u001b[39m evals_result\n\u001b[1;32m    966\u001b[0m \u001b[38;5;28mself\u001b[39m\u001b[38;5;241m.\u001b[39m_best_iteration \u001b[38;5;241m=\u001b[39m \u001b[38;5;28mself\u001b[39m\u001b[38;5;241m.\u001b[39m_Booster\u001b[38;5;241m.\u001b[39mbest_iteration\n",
            "File \u001b[0;32m~/Downloads/computerscience/Kaggle/geoai-ground-level-no2-estimation/geoai-ground/venv-geoai-ground-level-no2-estimation/lib/python3.12/site-packages/lightgbm/engine.py:282\u001b[0m, in \u001b[0;36mtrain\u001b[0;34m(params, train_set, num_boost_round, valid_sets, valid_names, feval, init_model, feature_name, categorical_feature, keep_training_booster, callbacks)\u001b[0m\n\u001b[1;32m    280\u001b[0m \u001b[38;5;66;03m# construct booster\u001b[39;00m\n\u001b[1;32m    281\u001b[0m \u001b[38;5;28;01mtry\u001b[39;00m:\n\u001b[0;32m--> 282\u001b[0m     booster \u001b[38;5;241m=\u001b[39m \u001b[43mBooster\u001b[49m\u001b[43m(\u001b[49m\u001b[43mparams\u001b[49m\u001b[38;5;241;43m=\u001b[39;49m\u001b[43mparams\u001b[49m\u001b[43m,\u001b[49m\u001b[43m \u001b[49m\u001b[43mtrain_set\u001b[49m\u001b[38;5;241;43m=\u001b[39;49m\u001b[43mtrain_set\u001b[49m\u001b[43m)\u001b[49m\n\u001b[1;32m    283\u001b[0m     \u001b[38;5;28;01mif\u001b[39;00m is_valid_contain_train:\n\u001b[1;32m    284\u001b[0m         booster\u001b[38;5;241m.\u001b[39mset_train_data_name(train_data_name)\n",
            "File \u001b[0;32m~/Downloads/computerscience/Kaggle/geoai-ground-level-no2-estimation/geoai-ground/venv-geoai-ground-level-no2-estimation/lib/python3.12/site-packages/lightgbm/basic.py:3627\u001b[0m, in \u001b[0;36mBooster.__init__\u001b[0;34m(self, params, train_set, model_file, model_str)\u001b[0m\n\u001b[1;32m   3620\u001b[0m     \u001b[38;5;28mself\u001b[39m\u001b[38;5;241m.\u001b[39mset_network(\n\u001b[1;32m   3621\u001b[0m         machines\u001b[38;5;241m=\u001b[39mmachines,\n\u001b[1;32m   3622\u001b[0m         local_listen_port\u001b[38;5;241m=\u001b[39mparams[\u001b[38;5;124m\"\u001b[39m\u001b[38;5;124mlocal_listen_port\u001b[39m\u001b[38;5;124m\"\u001b[39m],\n\u001b[1;32m   3623\u001b[0m         listen_time_out\u001b[38;5;241m=\u001b[39mparams\u001b[38;5;241m.\u001b[39mget(\u001b[38;5;124m\"\u001b[39m\u001b[38;5;124mtime_out\u001b[39m\u001b[38;5;124m\"\u001b[39m, \u001b[38;5;241m120\u001b[39m),\n\u001b[1;32m   3624\u001b[0m         num_machines\u001b[38;5;241m=\u001b[39mparams[\u001b[38;5;124m\"\u001b[39m\u001b[38;5;124mnum_machines\u001b[39m\u001b[38;5;124m\"\u001b[39m],\n\u001b[1;32m   3625\u001b[0m     )\n\u001b[1;32m   3626\u001b[0m \u001b[38;5;66;03m# construct booster object\u001b[39;00m\n\u001b[0;32m-> 3627\u001b[0m \u001b[43mtrain_set\u001b[49m\u001b[38;5;241;43m.\u001b[39;49m\u001b[43mconstruct\u001b[49m\u001b[43m(\u001b[49m\u001b[43m)\u001b[49m\n\u001b[1;32m   3628\u001b[0m \u001b[38;5;66;03m# copy the parameters from train_set\u001b[39;00m\n\u001b[1;32m   3629\u001b[0m params\u001b[38;5;241m.\u001b[39mupdate(train_set\u001b[38;5;241m.\u001b[39mget_params())\n",
            "File \u001b[0;32m~/Downloads/computerscience/Kaggle/geoai-ground-level-no2-estimation/geoai-ground/venv-geoai-ground-level-no2-estimation/lib/python3.12/site-packages/lightgbm/basic.py:2566\u001b[0m, in \u001b[0;36mDataset.construct\u001b[0;34m(self)\u001b[0m\n\u001b[1;32m   2561\u001b[0m             \u001b[38;5;28mself\u001b[39m\u001b[38;5;241m.\u001b[39m_set_init_score_by_predictor(\n\u001b[1;32m   2562\u001b[0m                 predictor\u001b[38;5;241m=\u001b[39m\u001b[38;5;28mself\u001b[39m\u001b[38;5;241m.\u001b[39m_predictor, data\u001b[38;5;241m=\u001b[39m\u001b[38;5;28mself\u001b[39m\u001b[38;5;241m.\u001b[39mdata, used_indices\u001b[38;5;241m=\u001b[39mused_indices\n\u001b[1;32m   2563\u001b[0m             )\n\u001b[1;32m   2564\u001b[0m \u001b[38;5;28;01melse\u001b[39;00m:\n\u001b[1;32m   2565\u001b[0m     \u001b[38;5;66;03m# create train\u001b[39;00m\n\u001b[0;32m-> 2566\u001b[0m     \u001b[38;5;28;43mself\u001b[39;49m\u001b[38;5;241;43m.\u001b[39;49m\u001b[43m_lazy_init\u001b[49m\u001b[43m(\u001b[49m\n\u001b[1;32m   2567\u001b[0m \u001b[43m        \u001b[49m\u001b[43mdata\u001b[49m\u001b[38;5;241;43m=\u001b[39;49m\u001b[38;5;28;43mself\u001b[39;49m\u001b[38;5;241;43m.\u001b[39;49m\u001b[43mdata\u001b[49m\u001b[43m,\u001b[49m\n\u001b[1;32m   2568\u001b[0m \u001b[43m        \u001b[49m\u001b[43mlabel\u001b[49m\u001b[38;5;241;43m=\u001b[39;49m\u001b[38;5;28;43mself\u001b[39;49m\u001b[38;5;241;43m.\u001b[39;49m\u001b[43mlabel\u001b[49m\u001b[43m,\u001b[49m\n\u001b[1;32m   2569\u001b[0m \u001b[43m        \u001b[49m\u001b[43mreference\u001b[49m\u001b[38;5;241;43m=\u001b[39;49m\u001b[38;5;28;43;01mNone\u001b[39;49;00m\u001b[43m,\u001b[49m\n\u001b[1;32m   2570\u001b[0m \u001b[43m        \u001b[49m\u001b[43mweight\u001b[49m\u001b[38;5;241;43m=\u001b[39;49m\u001b[38;5;28;43mself\u001b[39;49m\u001b[38;5;241;43m.\u001b[39;49m\u001b[43mweight\u001b[49m\u001b[43m,\u001b[49m\n\u001b[1;32m   2571\u001b[0m \u001b[43m        \u001b[49m\u001b[43mgroup\u001b[49m\u001b[38;5;241;43m=\u001b[39;49m\u001b[38;5;28;43mself\u001b[39;49m\u001b[38;5;241;43m.\u001b[39;49m\u001b[43mgroup\u001b[49m\u001b[43m,\u001b[49m\n\u001b[1;32m   2572\u001b[0m \u001b[43m        \u001b[49m\u001b[43minit_score\u001b[49m\u001b[38;5;241;43m=\u001b[39;49m\u001b[38;5;28;43mself\u001b[39;49m\u001b[38;5;241;43m.\u001b[39;49m\u001b[43minit_score\u001b[49m\u001b[43m,\u001b[49m\n\u001b[1;32m   2573\u001b[0m \u001b[43m        \u001b[49m\u001b[43mpredictor\u001b[49m\u001b[38;5;241;43m=\u001b[39;49m\u001b[38;5;28;43mself\u001b[39;49m\u001b[38;5;241;43m.\u001b[39;49m\u001b[43m_predictor\u001b[49m\u001b[43m,\u001b[49m\n\u001b[1;32m   2574\u001b[0m \u001b[43m        \u001b[49m\u001b[43mfeature_name\u001b[49m\u001b[38;5;241;43m=\u001b[39;49m\u001b[38;5;28;43mself\u001b[39;49m\u001b[38;5;241;43m.\u001b[39;49m\u001b[43mfeature_name\u001b[49m\u001b[43m,\u001b[49m\n\u001b[1;32m   2575\u001b[0m \u001b[43m        \u001b[49m\u001b[43mcategorical_feature\u001b[49m\u001b[38;5;241;43m=\u001b[39;49m\u001b[38;5;28;43mself\u001b[39;49m\u001b[38;5;241;43m.\u001b[39;49m\u001b[43mcategorical_feature\u001b[49m\u001b[43m,\u001b[49m\n\u001b[1;32m   2576\u001b[0m \u001b[43m        \u001b[49m\u001b[43mparams\u001b[49m\u001b[38;5;241;43m=\u001b[39;49m\u001b[38;5;28;43mself\u001b[39;49m\u001b[38;5;241;43m.\u001b[39;49m\u001b[43mparams\u001b[49m\u001b[43m,\u001b[49m\n\u001b[1;32m   2577\u001b[0m \u001b[43m        \u001b[49m\u001b[43mposition\u001b[49m\u001b[38;5;241;43m=\u001b[39;49m\u001b[38;5;28;43mself\u001b[39;49m\u001b[38;5;241;43m.\u001b[39;49m\u001b[43mposition\u001b[49m\u001b[43m,\u001b[49m\n\u001b[1;32m   2578\u001b[0m \u001b[43m    \u001b[49m\u001b[43m)\u001b[49m\n\u001b[1;32m   2579\u001b[0m \u001b[38;5;28;01mif\u001b[39;00m \u001b[38;5;28mself\u001b[39m\u001b[38;5;241m.\u001b[39mfree_raw_data:\n\u001b[1;32m   2580\u001b[0m     \u001b[38;5;28mself\u001b[39m\u001b[38;5;241m.\u001b[39mdata \u001b[38;5;241m=\u001b[39m \u001b[38;5;28;01mNone\u001b[39;00m\n",
            "File \u001b[0;32m~/Downloads/computerscience/Kaggle/geoai-ground-level-no2-estimation/geoai-ground/venv-geoai-ground-level-no2-estimation/lib/python3.12/site-packages/lightgbm/basic.py:2096\u001b[0m, in \u001b[0;36mDataset._lazy_init\u001b[0;34m(self, data, label, reference, weight, group, init_score, predictor, feature_name, categorical_feature, params, position)\u001b[0m\n\u001b[1;32m   2094\u001b[0m     categorical_feature \u001b[38;5;241m=\u001b[39m reference\u001b[38;5;241m.\u001b[39mcategorical_feature\n\u001b[1;32m   2095\u001b[0m \u001b[38;5;28;01mif\u001b[39;00m \u001b[38;5;28misinstance\u001b[39m(data, pd_DataFrame):\n\u001b[0;32m-> 2096\u001b[0m     data, feature_name, categorical_feature, \u001b[38;5;28mself\u001b[39m\u001b[38;5;241m.\u001b[39mpandas_categorical \u001b[38;5;241m=\u001b[39m \u001b[43m_data_from_pandas\u001b[49m\u001b[43m(\u001b[49m\n\u001b[1;32m   2097\u001b[0m \u001b[43m        \u001b[49m\u001b[43mdata\u001b[49m\u001b[38;5;241;43m=\u001b[39;49m\u001b[43mdata\u001b[49m\u001b[43m,\u001b[49m\n\u001b[1;32m   2098\u001b[0m \u001b[43m        \u001b[49m\u001b[43mfeature_name\u001b[49m\u001b[38;5;241;43m=\u001b[39;49m\u001b[43mfeature_name\u001b[49m\u001b[43m,\u001b[49m\n\u001b[1;32m   2099\u001b[0m \u001b[43m        \u001b[49m\u001b[43mcategorical_feature\u001b[49m\u001b[38;5;241;43m=\u001b[39;49m\u001b[43mcategorical_feature\u001b[49m\u001b[43m,\u001b[49m\n\u001b[1;32m   2100\u001b[0m \u001b[43m        \u001b[49m\u001b[43mpandas_categorical\u001b[49m\u001b[38;5;241;43m=\u001b[39;49m\u001b[38;5;28;43mself\u001b[39;49m\u001b[38;5;241;43m.\u001b[39;49m\u001b[43mpandas_categorical\u001b[49m\u001b[43m,\u001b[49m\n\u001b[1;32m   2101\u001b[0m \u001b[43m    \u001b[49m\u001b[43m)\u001b[49m\n\u001b[1;32m   2103\u001b[0m \u001b[38;5;66;03m# process for args\u001b[39;00m\n\u001b[1;32m   2104\u001b[0m params \u001b[38;5;241m=\u001b[39m {} \u001b[38;5;28;01mif\u001b[39;00m params \u001b[38;5;129;01mis\u001b[39;00m \u001b[38;5;28;01mNone\u001b[39;00m \u001b[38;5;28;01melse\u001b[39;00m params\n",
            "File \u001b[0;32m~/Downloads/computerscience/Kaggle/geoai-ground-level-no2-estimation/geoai-ground/venv-geoai-ground-level-no2-estimation/lib/python3.12/site-packages/lightgbm/basic.py:846\u001b[0m, in \u001b[0;36m_data_from_pandas\u001b[0;34m(data, feature_name, categorical_feature, pandas_categorical)\u001b[0m\n\u001b[1;32m    842\u001b[0m df_dtypes\u001b[38;5;241m.\u001b[39mappend(np\u001b[38;5;241m.\u001b[39mfloat32)\n\u001b[1;32m    843\u001b[0m target_dtype \u001b[38;5;241m=\u001b[39m np\u001b[38;5;241m.\u001b[39mresult_type(\u001b[38;5;241m*\u001b[39mdf_dtypes)\n\u001b[1;32m    845\u001b[0m \u001b[38;5;28;01mreturn\u001b[39;00m (\n\u001b[0;32m--> 846\u001b[0m     \u001b[43m_pandas_to_numpy\u001b[49m\u001b[43m(\u001b[49m\u001b[43mdata\u001b[49m\u001b[43m,\u001b[49m\u001b[43m \u001b[49m\u001b[43mtarget_dtype\u001b[49m\u001b[38;5;241;43m=\u001b[39;49m\u001b[43mtarget_dtype\u001b[49m\u001b[43m)\u001b[49m,\n\u001b[1;32m    847\u001b[0m     feature_name,\n\u001b[1;32m    848\u001b[0m     categorical_feature,\n\u001b[1;32m    849\u001b[0m     pandas_categorical,\n\u001b[1;32m    850\u001b[0m )\n",
            "File \u001b[0;32m~/Downloads/computerscience/Kaggle/geoai-ground-level-no2-estimation/geoai-ground/venv-geoai-ground-level-no2-estimation/lib/python3.12/site-packages/lightgbm/basic.py:792\u001b[0m, in \u001b[0;36m_pandas_to_numpy\u001b[0;34m(data, target_dtype)\u001b[0m\n\u001b[1;32m    788\u001b[0m \u001b[38;5;28;01mdef\u001b[39;00m \u001b[38;5;21m_pandas_to_numpy\u001b[39m(\n\u001b[1;32m    789\u001b[0m     data: pd_DataFrame,\n\u001b[1;32m    790\u001b[0m     target_dtype: \u001b[38;5;124m\"\u001b[39m\u001b[38;5;124mnp.typing.DTypeLike\u001b[39m\u001b[38;5;124m\"\u001b[39m,\n\u001b[1;32m    791\u001b[0m ) \u001b[38;5;241m-\u001b[39m\u001b[38;5;241m>\u001b[39m np\u001b[38;5;241m.\u001b[39mndarray:\n\u001b[0;32m--> 792\u001b[0m     \u001b[43m_check_for_bad_pandas_dtypes\u001b[49m\u001b[43m(\u001b[49m\u001b[43mdata\u001b[49m\u001b[38;5;241;43m.\u001b[39;49m\u001b[43mdtypes\u001b[49m\u001b[43m)\u001b[49m\n\u001b[1;32m    793\u001b[0m     \u001b[38;5;28;01mtry\u001b[39;00m:\n\u001b[1;32m    794\u001b[0m         \u001b[38;5;66;03m# most common case (no nullable dtypes)\u001b[39;00m\n\u001b[1;32m    795\u001b[0m         \u001b[38;5;28;01mreturn\u001b[39;00m data\u001b[38;5;241m.\u001b[39mto_numpy(dtype\u001b[38;5;241m=\u001b[39mtarget_dtype, copy\u001b[38;5;241m=\u001b[39m\u001b[38;5;28;01mFalse\u001b[39;00m)\n",
            "File \u001b[0;32m~/Downloads/computerscience/Kaggle/geoai-ground-level-no2-estimation/geoai-ground/venv-geoai-ground-level-no2-estimation/lib/python3.12/site-packages/lightgbm/basic.py:782\u001b[0m, in \u001b[0;36m_check_for_bad_pandas_dtypes\u001b[0;34m(pandas_dtypes_series)\u001b[0m\n\u001b[1;32m    776\u001b[0m bad_pandas_dtypes \u001b[38;5;241m=\u001b[39m [\n\u001b[1;32m    777\u001b[0m     \u001b[38;5;124mf\u001b[39m\u001b[38;5;124m\"\u001b[39m\u001b[38;5;132;01m{\u001b[39;00mcolumn_name\u001b[38;5;132;01m}\u001b[39;00m\u001b[38;5;124m: \u001b[39m\u001b[38;5;132;01m{\u001b[39;00mpandas_dtype\u001b[38;5;132;01m}\u001b[39;00m\u001b[38;5;124m\"\u001b[39m\n\u001b[1;32m    778\u001b[0m     \u001b[38;5;28;01mfor\u001b[39;00m column_name, pandas_dtype \u001b[38;5;129;01min\u001b[39;00m pandas_dtypes_series\u001b[38;5;241m.\u001b[39mitems()\n\u001b[1;32m    779\u001b[0m     \u001b[38;5;28;01mif\u001b[39;00m \u001b[38;5;129;01mnot\u001b[39;00m _is_allowed_numpy_dtype(pandas_dtype\u001b[38;5;241m.\u001b[39mtype)\n\u001b[1;32m    780\u001b[0m ]\n\u001b[1;32m    781\u001b[0m \u001b[38;5;28;01mif\u001b[39;00m bad_pandas_dtypes:\n\u001b[0;32m--> 782\u001b[0m     \u001b[38;5;28;01mraise\u001b[39;00m \u001b[38;5;167;01mValueError\u001b[39;00m(\n\u001b[1;32m    783\u001b[0m         \u001b[38;5;124m'\u001b[39m\u001b[38;5;124mpandas dtypes must be int, float or bool.\u001b[39m\u001b[38;5;130;01m\\n\u001b[39;00m\u001b[38;5;124m'\u001b[39m\n\u001b[1;32m    784\u001b[0m         \u001b[38;5;124mf\u001b[39m\u001b[38;5;124m'\u001b[39m\u001b[38;5;124mFields with bad pandas dtypes: \u001b[39m\u001b[38;5;132;01m{\u001b[39;00m\u001b[38;5;124m\"\u001b[39m\u001b[38;5;124m, \u001b[39m\u001b[38;5;124m\"\u001b[39m\u001b[38;5;241m.\u001b[39mjoin(bad_pandas_dtypes)\u001b[38;5;132;01m}\u001b[39;00m\u001b[38;5;124m'\u001b[39m\n\u001b[1;32m    785\u001b[0m     )\n",
            "\u001b[0;31mValueError\u001b[0m: pandas dtypes must be int, float or bool.\nFields with bad pandas dtypes: id: object, site_id: object, date: object"
          ]
        }
      ],
      "source": [
        "train_set = pd.read_csv(\"/Users/ahmed/Downloads/computerscience/AirQo/PM2.5-Prediction/data/Train.csv\")\n",
        "test_set = pd.read_csv(\"/Users/ahmed/Downloads/computerscience/AirQo/PM2.5-Prediction/data/Test.csv\")\n",
        "def validate(trainset,testset,t,origin):\n",
        "    model.fit(trainset.drop(columns=t),trainset[t])\n",
        "    pred = model.predict(np.array(testset.drop(columns=t)))\n",
        "    print('std: ', testset[t].std())\n",
        "\n",
        "    # to validate the post processing\n",
        "    origin['pm_5'] = pred\n",
        "    origin['date'] = pd.to_datetime(origin['date'])\n",
        "    origin['date_day'] = origin['date'].dt.dayofyear\n",
        "    pred = origin['date_day'].map(origin[['date_day','pm_5']].groupby('date_day')['pm_5'].mean())\n",
        "    #--------------------------------------------------------------------------------------------\n",
        "    stds.append(testset[t].std())\n",
        "    score = mean_squared_error(pred,testset[t],squared=False)\n",
        "    print('score:', score)\n",
        "    return score\n",
        "stds = []\n",
        "rmse = []\n",
        "\n",
        "for v_train,v_test in cv.split(train.drop(columns='pm2_5'),train['pm2_5'],groups=groups):\n",
        "    train_v, test_v= train.iloc[v_train],train.iloc[v_test]\n",
        "    origin = train_set.iloc[v_test]\n",
        "    rmse.append(validate(train_v,test_v,'pm2_5',origin))"
      ]
    },
    {
      "cell_type": "code",
      "execution_count": null,
      "metadata": {
        "colab": {
          "base_uri": "https://localhost:8080/"
        },
        "id": "poYF76ljywzU",
        "outputId": "87a97705-008e-47bb-a2e6-760edc6296a0"
      },
      "outputs": [
        {
          "data": {
            "text/plain": [
              "27.749077068645054"
            ]
          },
          "execution_count": 36,
          "metadata": {},
          "output_type": "execute_result"
        }
      ],
      "source": [
        "np.array(rmse).mean()"
      ]
    },
    {
      "cell_type": "markdown",
      "metadata": {},
      "source": [
        "# Infrence"
      ]
    },
    {
      "cell_type": "code",
      "execution_count": null,
      "metadata": {
        "colab": {
          "base_uri": "https://localhost:8080/",
          "height": 204
        },
        "id": "fp5qaf0jywzV",
        "outputId": "66c5d385-98c4-4feb-b3f0-81a27145bc51"
      },
      "outputs": [
        {
          "name": "stdout",
          "output_type": "stream",
          "text": [
            "[LightGBM] [Warning] Accuracy may be bad since you didn't explicitly set num_leaves OR 2^max_depth > num_leaves. (num_leaves=31).\n"
          ]
        },
        {
          "name": "stdout",
          "output_type": "stream",
          "text": [
            "[LightGBM] [Warning] Accuracy may be bad since you didn't explicitly set num_leaves OR 2^max_depth > num_leaves. (num_leaves=31).\n",
            "[LightGBM] [Warning] Auto-choosing col-wise multi-threading, the overhead of testing was 0.003746 seconds.\n",
            "You can set `force_col_wise=true` to remove the overhead.\n",
            "[LightGBM] [Info] Total Bins 16520\n",
            "[LightGBM] [Info] Number of data points in the train set: 8071, number of used features: 73\n",
            "[LightGBM] [Info] Start training from score 24.639296\n",
            "[LightGBM] [Warning] No further splits with positive gain, best gain: -inf\n",
            "[LightGBM] [Warning] No further splits with positive gain, best gain: -inf\n",
            "[LightGBM] [Warning] No further splits with positive gain, best gain: -inf\n",
            "[LightGBM] [Warning] No further splits with positive gain, best gain: -inf\n",
            "[LightGBM] [Warning] No further splits with positive gain, best gain: -inf\n",
            "[LightGBM] [Warning] No further splits with positive gain, best gain: -inf\n",
            "[LightGBM] [Warning] No further splits with positive gain, best gain: -inf\n",
            "[LightGBM] [Warning] No further splits with positive gain, best gain: -inf\n",
            "[LightGBM] [Warning] No further splits with positive gain, best gain: -inf\n",
            "[LightGBM] [Warning] No further splits with positive gain, best gain: -inf\n",
            "[LightGBM] [Warning] No further splits with positive gain, best gain: -inf\n",
            "[LightGBM] [Warning] No further splits with positive gain, best gain: -inf\n",
            "[LightGBM] [Warning] No further splits with positive gain, best gain: -inf\n",
            "[LightGBM] [Warning] No further splits with positive gain, best gain: -inf\n",
            "[LightGBM] [Warning] No further splits with positive gain, best gain: -inf\n",
            "[LightGBM] [Warning] No further splits with positive gain, best gain: -inf\n",
            "[LightGBM] [Warning] No further splits with positive gain, best gain: -inf\n",
            "[LightGBM] [Warning] No further splits with positive gain, best gain: -inf\n"
          ]
        },
        {
          "data": {
            "text/html": [
              "<style>#sk-container-id-4 {color: black;background-color: white;}#sk-container-id-4 pre{padding: 0;}#sk-container-id-4 div.sk-toggleable {background-color: white;}#sk-container-id-4 label.sk-toggleable__label {cursor: pointer;display: block;width: 100%;margin-bottom: 0;padding: 0.3em;box-sizing: border-box;text-align: center;}#sk-container-id-4 label.sk-toggleable__label-arrow:before {content: \"▸\";float: left;margin-right: 0.25em;color: #696969;}#sk-container-id-4 label.sk-toggleable__label-arrow:hover:before {color: black;}#sk-container-id-4 div.sk-estimator:hover label.sk-toggleable__label-arrow:before {color: black;}#sk-container-id-4 div.sk-toggleable__content {max-height: 0;max-width: 0;overflow: hidden;text-align: left;background-color: #f0f8ff;}#sk-container-id-4 div.sk-toggleable__content pre {margin: 0.2em;color: black;border-radius: 0.25em;background-color: #f0f8ff;}#sk-container-id-4 input.sk-toggleable__control:checked~div.sk-toggleable__content {max-height: 200px;max-width: 100%;overflow: auto;}#sk-container-id-4 input.sk-toggleable__control:checked~label.sk-toggleable__label-arrow:before {content: \"▾\";}#sk-container-id-4 div.sk-estimator input.sk-toggleable__control:checked~label.sk-toggleable__label {background-color: #d4ebff;}#sk-container-id-4 div.sk-label input.sk-toggleable__control:checked~label.sk-toggleable__label {background-color: #d4ebff;}#sk-container-id-4 input.sk-hidden--visually {border: 0;clip: rect(1px 1px 1px 1px);clip: rect(1px, 1px, 1px, 1px);height: 1px;margin: -1px;overflow: hidden;padding: 0;position: absolute;width: 1px;}#sk-container-id-4 div.sk-estimator {font-family: monospace;background-color: #f0f8ff;border: 1px dotted black;border-radius: 0.25em;box-sizing: border-box;margin-bottom: 0.5em;}#sk-container-id-4 div.sk-estimator:hover {background-color: #d4ebff;}#sk-container-id-4 div.sk-parallel-item::after {content: \"\";width: 100%;border-bottom: 1px solid gray;flex-grow: 1;}#sk-container-id-4 div.sk-label:hover label.sk-toggleable__label {background-color: #d4ebff;}#sk-container-id-4 div.sk-serial::before {content: \"\";position: absolute;border-left: 1px solid gray;box-sizing: border-box;top: 0;bottom: 0;left: 50%;z-index: 0;}#sk-container-id-4 div.sk-serial {display: flex;flex-direction: column;align-items: center;background-color: white;padding-right: 0.2em;padding-left: 0.2em;position: relative;}#sk-container-id-4 div.sk-item {position: relative;z-index: 1;}#sk-container-id-4 div.sk-parallel {display: flex;align-items: stretch;justify-content: center;background-color: white;position: relative;}#sk-container-id-4 div.sk-item::before, #sk-container-id-4 div.sk-parallel-item::before {content: \"\";position: absolute;border-left: 1px solid gray;box-sizing: border-box;top: 0;bottom: 0;left: 50%;z-index: -1;}#sk-container-id-4 div.sk-parallel-item {display: flex;flex-direction: column;z-index: 1;position: relative;background-color: white;}#sk-container-id-4 div.sk-parallel-item:first-child::after {align-self: flex-end;width: 50%;}#sk-container-id-4 div.sk-parallel-item:last-child::after {align-self: flex-start;width: 50%;}#sk-container-id-4 div.sk-parallel-item:only-child::after {width: 0;}#sk-container-id-4 div.sk-dashed-wrapped {border: 1px dashed gray;margin: 0 0.4em 0.5em 0.4em;box-sizing: border-box;padding-bottom: 0.4em;background-color: white;}#sk-container-id-4 div.sk-label label {font-family: monospace;font-weight: bold;display: inline-block;line-height: 1.2em;}#sk-container-id-4 div.sk-label-container {text-align: center;}#sk-container-id-4 div.sk-container {/* jupyter's `normalize.less` sets `[hidden] { display: none; }` but bootstrap.min.css set `[hidden] { display: none !important; }` so we also need the `!important` here to be able to override the default hidden behavior on the sphinx rendered scikit-learn.org. See: https://github.com/scikit-learn/scikit-learn/issues/21755 */display: inline-block !important;position: relative;}#sk-container-id-4 div.sk-text-repr-fallback {display: none;}</style><div id=\"sk-container-id-4\" class=\"sk-top-container\"><div class=\"sk-text-repr-fallback\"><pre>LGBMRegressor(max_depth=10, n_estimators=200, objective=&#x27;mse&#x27;, random_state=42)</pre><b>In a Jupyter environment, please rerun this cell to show the HTML representation or trust the notebook. <br />On GitHub, the HTML representation is unable to render, please try loading this page with nbviewer.org.</b></div><div class=\"sk-container\" hidden><div class=\"sk-item\"><div class=\"sk-estimator sk-toggleable\"><input class=\"sk-toggleable__control sk-hidden--visually\" id=\"sk-estimator-id-4\" type=\"checkbox\" checked><label for=\"sk-estimator-id-4\" class=\"sk-toggleable__label sk-toggleable__label-arrow\">LGBMRegressor</label><div class=\"sk-toggleable__content\"><pre>LGBMRegressor(max_depth=10, n_estimators=200, objective=&#x27;mse&#x27;, random_state=42)</pre></div></div></div></div></div>"
            ],
            "text/plain": [
              "LGBMRegressor(max_depth=10, n_estimators=200, objective='mse', random_state=42)"
            ]
          },
          "execution_count": 37,
          "metadata": {},
          "output_type": "execute_result"
        }
      ],
      "source": [
        "model.fit(train.drop(columns='pm2_5'),train['pm2_5'])"
      ]
    },
    {
      "cell_type": "code",
      "execution_count": null,
      "metadata": {
        "id": "NBuLZjneywzV"
      },
      "outputs": [
        {
          "name": "stdout",
          "output_type": "stream",
          "text": [
            "[LightGBM] [Warning] Accuracy may be bad since you didn't explicitly set num_leaves OR 2^max_depth > num_leaves. (num_leaves=31).\n"
          ]
        }
      ],
      "source": [
        "y = model.predict(test)"
      ]
    },
    {
      "cell_type": "code",
      "execution_count": null,
      "metadata": {
        "id": "CpuZmmpdywzW"
      },
      "outputs": [],
      "source": [
        "smaple = pd.read_csv('/Users/ahmed/Downloads/computerscience/AirQo/pm2_5-Prediction/data/SampleSubmission.csv')\n",
        "smaple['pm2_5'] = post_process(test,y)\n",
        "smaple.to_csv('submission.csv',index=False)"
      ]
    }
  ],
  "metadata": {
    "colab": {
      "provenance": []
    },
    "kaggle": {
      "accelerator": "none",
      "dataSources": [
        {
          "datasetId": 4623740,
          "sourceId": 7878351,
          "sourceType": "datasetVersion"
        }
      ],
      "dockerImageVersionId": 30673,
      "isGpuEnabled": false,
      "isInternetEnabled": true,
      "language": "python",
      "sourceType": "notebook"
    },
    "kernelspec": {
      "display_name": "vscode-kerenls",
      "language": "python",
      "name": "vscode-kerenls"
    },
    "language_info": {
      "codemirror_mode": {
        "name": "ipython",
        "version": 3
      },
      "file_extension": ".py",
      "mimetype": "text/x-python",
      "name": "python",
      "nbconvert_exporter": "python",
      "pygments_lexer": "ipython3",
      "version": "3.12.4"
    }
  },
  "nbformat": 4,
  "nbformat_minor": 0
}
